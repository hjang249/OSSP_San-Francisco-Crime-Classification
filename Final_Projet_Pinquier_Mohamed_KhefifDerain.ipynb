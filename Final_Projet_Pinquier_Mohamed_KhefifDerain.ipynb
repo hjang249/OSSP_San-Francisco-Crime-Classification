{
 "cells": [
  {
   "cell_type": "markdown",
   "metadata": {},
   "source": [
    "모듈 등록(import)"
   ]
  },
  {
   "cell_type": "code",
   "execution_count": 19,
   "metadata": {},
   "outputs": [],
   "source": [
    "import pandas as pd\n",
    "import numpy as np\n",
    "from sklearn import preprocessing\n",
    "from sklearn.preprocessing import LabelEncoder as le\n",
    "from sklearn.preprocessing import MultiLabelBinarizer\n",
    "from sklearn.ensemble import RandomForestClassifier\n",
    "from sklearn import svm\n",
    "import matplotlib.pyplot as plt\n",
    "import seaborn as sns\n",
    "from collections import OrderedDict\n",
    "from sklearn.cross_validation import train_test_split\n",
    "from sklearn.metrics import accuracy_score\n",
    "from sklearn.metrics import f1_score\n",
    "from sklearn.metrics import recall_score\n",
    "from sklearn.metrics import precision_score\n",
    "import xgboost as xgb\n",
    "from sklearn.tree import DecisionTreeClassifier"
   ]
  },
  {
   "cell_type": "markdown",
   "metadata": {},
   "source": [
    "매개변수 및 데이터 입력\n",
    "매개변수 사상"
   ]
  },
  {
   "cell_type": "code",
   "execution_count": 20,
   "metadata": {},
   "outputs": [],
   "source": [
    "ROOT_FILENAME = \"../input/\"\n",
    "#ROOT_FILENAME = \"\"\n",
    "TRAIN_FILENAME = 'train.csv'\n",
    "TEST_FILENAME = 'test.csv'\n",
    "RESULT_FILENAME = 'res2.cv'"
   ]
  },
  {
   "cell_type": "markdown",
   "metadata": {},
   "source": [
    "train.csv와 test.csv 투입"
   ]
  },
  {
   "cell_type": "code",
   "execution_count": 21,
   "metadata": {},
   "outputs": [
    {
     "name": "stdout",
     "output_type": "stream",
     "text": [
      "(878049, 9)\n"
     ]
    },
    {
     "data": {
      "text/html": [
       "<div>\n",
       "<style scoped>\n",
       "    .dataframe tbody tr th:only-of-type {\n",
       "        vertical-align: middle;\n",
       "    }\n",
       "\n",
       "    .dataframe tbody tr th {\n",
       "        vertical-align: top;\n",
       "    }\n",
       "\n",
       "    .dataframe thead th {\n",
       "        text-align: right;\n",
       "    }\n",
       "</style>\n",
       "<table border=\"1\" class=\"dataframe\">\n",
       "  <thead>\n",
       "    <tr style=\"text-align: right;\">\n",
       "      <th></th>\n",
       "      <th>Dates</th>\n",
       "      <th>Category</th>\n",
       "      <th>Descript</th>\n",
       "      <th>DayOfWeek</th>\n",
       "      <th>PdDistrict</th>\n",
       "      <th>Resolution</th>\n",
       "      <th>Address</th>\n",
       "      <th>X</th>\n",
       "      <th>Y</th>\n",
       "    </tr>\n",
       "  </thead>\n",
       "  <tbody>\n",
       "    <tr>\n",
       "      <th>0</th>\n",
       "      <td>2015-05-13 23:53:00</td>\n",
       "      <td>WARRANTS</td>\n",
       "      <td>WARRANT ARREST</td>\n",
       "      <td>Wednesday</td>\n",
       "      <td>NORTHERN</td>\n",
       "      <td>ARREST, BOOKED</td>\n",
       "      <td>OAK ST / LAGUNA ST</td>\n",
       "      <td>-122.425892</td>\n",
       "      <td>37.774599</td>\n",
       "    </tr>\n",
       "    <tr>\n",
       "      <th>1</th>\n",
       "      <td>2015-05-13 23:53:00</td>\n",
       "      <td>OTHER OFFENSES</td>\n",
       "      <td>TRAFFIC VIOLATION ARREST</td>\n",
       "      <td>Wednesday</td>\n",
       "      <td>NORTHERN</td>\n",
       "      <td>ARREST, BOOKED</td>\n",
       "      <td>OAK ST / LAGUNA ST</td>\n",
       "      <td>-122.425892</td>\n",
       "      <td>37.774599</td>\n",
       "    </tr>\n",
       "    <tr>\n",
       "      <th>2</th>\n",
       "      <td>2015-05-13 23:33:00</td>\n",
       "      <td>OTHER OFFENSES</td>\n",
       "      <td>TRAFFIC VIOLATION ARREST</td>\n",
       "      <td>Wednesday</td>\n",
       "      <td>NORTHERN</td>\n",
       "      <td>ARREST, BOOKED</td>\n",
       "      <td>VANNESS AV / GREENWICH ST</td>\n",
       "      <td>-122.424363</td>\n",
       "      <td>37.800414</td>\n",
       "    </tr>\n",
       "  </tbody>\n",
       "</table>\n",
       "</div>"
      ],
      "text/plain": [
       "                Dates        Category                  Descript  DayOfWeek  \\\n",
       "0 2015-05-13 23:53:00        WARRANTS            WARRANT ARREST  Wednesday   \n",
       "1 2015-05-13 23:53:00  OTHER OFFENSES  TRAFFIC VIOLATION ARREST  Wednesday   \n",
       "2 2015-05-13 23:33:00  OTHER OFFENSES  TRAFFIC VIOLATION ARREST  Wednesday   \n",
       "\n",
       "  PdDistrict      Resolution                    Address           X          Y  \n",
       "0   NORTHERN  ARREST, BOOKED         OAK ST / LAGUNA ST -122.425892  37.774599  \n",
       "1   NORTHERN  ARREST, BOOKED         OAK ST / LAGUNA ST -122.425892  37.774599  \n",
       "2   NORTHERN  ARREST, BOOKED  VANNESS AV / GREENWICH ST -122.424363  37.800414  "
      ]
     },
     "execution_count": 21,
     "metadata": {},
     "output_type": "execute_result"
    }
   ],
   "source": [
    "train = pd.read_csv(ROOT_FILENAME+TRAIN_FILENAME, parse_dates=['Dates'], index_col=False)\n",
    "print(train.shape)\n",
    "train.head(3)"
   ]
  },
  {
   "cell_type": "code",
   "execution_count": 22,
   "metadata": {},
   "outputs": [
    {
     "name": "stdout",
     "output_type": "stream",
     "text": [
      "(884262, 7)\n"
     ]
    },
    {
     "data": {
      "text/html": [
       "<div>\n",
       "<style scoped>\n",
       "    .dataframe tbody tr th:only-of-type {\n",
       "        vertical-align: middle;\n",
       "    }\n",
       "\n",
       "    .dataframe tbody tr th {\n",
       "        vertical-align: top;\n",
       "    }\n",
       "\n",
       "    .dataframe thead th {\n",
       "        text-align: right;\n",
       "    }\n",
       "</style>\n",
       "<table border=\"1\" class=\"dataframe\">\n",
       "  <thead>\n",
       "    <tr style=\"text-align: right;\">\n",
       "      <th></th>\n",
       "      <th>Id</th>\n",
       "      <th>Dates</th>\n",
       "      <th>DayOfWeek</th>\n",
       "      <th>PdDistrict</th>\n",
       "      <th>Address</th>\n",
       "      <th>X</th>\n",
       "      <th>Y</th>\n",
       "    </tr>\n",
       "  </thead>\n",
       "  <tbody>\n",
       "    <tr>\n",
       "      <th>0</th>\n",
       "      <td>0</td>\n",
       "      <td>2015-05-10 23:59:00</td>\n",
       "      <td>Sunday</td>\n",
       "      <td>BAYVIEW</td>\n",
       "      <td>2000 Block of THOMAS AV</td>\n",
       "      <td>-122.399588</td>\n",
       "      <td>37.735051</td>\n",
       "    </tr>\n",
       "    <tr>\n",
       "      <th>1</th>\n",
       "      <td>1</td>\n",
       "      <td>2015-05-10 23:51:00</td>\n",
       "      <td>Sunday</td>\n",
       "      <td>BAYVIEW</td>\n",
       "      <td>3RD ST / REVERE AV</td>\n",
       "      <td>-122.391523</td>\n",
       "      <td>37.732432</td>\n",
       "    </tr>\n",
       "    <tr>\n",
       "      <th>2</th>\n",
       "      <td>2</td>\n",
       "      <td>2015-05-10 23:50:00</td>\n",
       "      <td>Sunday</td>\n",
       "      <td>NORTHERN</td>\n",
       "      <td>2000 Block of GOUGH ST</td>\n",
       "      <td>-122.426002</td>\n",
       "      <td>37.792212</td>\n",
       "    </tr>\n",
       "  </tbody>\n",
       "</table>\n",
       "</div>"
      ],
      "text/plain": [
       "   Id               Dates DayOfWeek PdDistrict                  Address  \\\n",
       "0   0 2015-05-10 23:59:00    Sunday    BAYVIEW  2000 Block of THOMAS AV   \n",
       "1   1 2015-05-10 23:51:00    Sunday    BAYVIEW       3RD ST / REVERE AV   \n",
       "2   2 2015-05-10 23:50:00    Sunday   NORTHERN   2000 Block of GOUGH ST   \n",
       "\n",
       "            X          Y  \n",
       "0 -122.399588  37.735051  \n",
       "1 -122.391523  37.732432  \n",
       "2 -122.426002  37.792212  "
      ]
     },
     "execution_count": 22,
     "metadata": {},
     "output_type": "execute_result"
    }
   ],
   "source": [
    "test = pd.read_csv(ROOT_FILENAME+TEST_FILENAME, parse_dates=['Dates'], index_col=False)\n",
    "print(test.shape)\n",
    "test.head(3)"
   ]
  },
  {
   "cell_type": "markdown",
   "metadata": {},
   "source": [
    "데이터 마이닝(탐구)\n",
    ": 우리는 시험 중에 이용할 수 있는 밭을 확인할 것이다. (게임이 캐글에게 전송해야 할 시험 게임) 그러므로 모든 밭은 설명과 품목의 허용에 대하여 조사될 것이다."
   ]
  },
  {
   "cell_type": "code",
   "execution_count": 23,
   "metadata": {},
   "outputs": [
    {
     "name": "stdout",
     "output_type": "stream",
     "text": [
      "<class 'pandas.core.frame.DataFrame'>\n",
      "RangeIndex: 878049 entries, 0 to 878048\n",
      "Data columns (total 9 columns):\n",
      "Dates         878049 non-null datetime64[ns]\n",
      "Category      878049 non-null object\n",
      "Descript      878049 non-null object\n",
      "DayOfWeek     878049 non-null object\n",
      "PdDistrict    878049 non-null object\n",
      "Resolution    878049 non-null object\n",
      "Address       878049 non-null object\n",
      "X             878049 non-null float64\n",
      "Y             878049 non-null float64\n",
      "dtypes: datetime64[ns](1), float64(2), object(6)\n",
      "memory usage: 60.3+ MB\n"
     ]
    }
   ],
   "source": [
    "train.info()"
   ]
  },
  {
   "cell_type": "markdown",
   "metadata": {},
   "source": [
    "데이터 전송"
   ]
  },
  {
   "cell_type": "code",
   "execution_count": 24,
   "metadata": {},
   "outputs": [],
   "source": [
    "categories = {c:i for i,c in enumerate(train['Category'].unique())}\n",
    "cat_rev = {i:c for i,c in enumerate(train['Category'].unique())}"
   ]
  },
  {
   "cell_type": "code",
   "execution_count": 25,
   "metadata": {},
   "outputs": [],
   "source": [
    "districts = {c:i for i,c in enumerate(train['PdDistrict'].unique())}"
   ]
  },
  {
   "cell_type": "code",
   "execution_count": 26,
   "metadata": {},
   "outputs": [],
   "source": [
    "weekdays = {'Monday':0., 'Tuesday':1., 'Wednesday':2., 'Thursday': 3., 'Friday':4., 'Saturday':5., 'Sunday':6.}\n",
    "weekdays2 = {'Monday':0., 'Tuesday':0., 'Wednesday':0., 'Thursday': 0., 'Friday':0., 'Saturday':1., 'Sunday':1}"
   ]
  },
  {
   "cell_type": "code",
   "execution_count": 27,
   "metadata": {},
   "outputs": [],
   "source": [
    "def getHourZn(hour):\n",
    "    if(hour >= 2 and hour < 8): return 1;\n",
    "    if(hour >= 8 and hour < 12): return 2;\n",
    "    if(hour >= 12 and hour < 14): return 3;\n",
    "    if(hour >= 14 and hour < 18): return 4;\n",
    "    if(hour >= 18 and hour < 22): return 5;\n",
    "    if(hour < 2 or hour >= 22): return 6;\n"
   ]
  },
  {
   "cell_type": "code",
   "execution_count": 28,
   "metadata": {},
   "outputs": [],
   "source": [
    "def define_address(addr):\n",
    "    addr_type = 0.\n",
    "    # Address types:\n",
    "    #  Intersection: 1\n",
    "    #  Residence: 0categories\n",
    "    if '/' in addr and 'of' not in addr:\n",
    "        addr_type = 1.\n",
    "    else:\n",
    "        add_type = 0.\n",
    "    return addr_type"
   ]
  },
  {
   "cell_type": "code",
   "execution_count": 29,
   "metadata": {},
   "outputs": [],
   "source": [
    "def feature_engineering(data):\n",
    "    data['Day'] = data['Dates'].dt.day\n",
    "    data['Month'] = data['Dates'].dt.month\n",
    "    data['Year'] = data['Dates'].dt.year-2003\n",
    "    data['Hour'] = data['Dates'].dt.hour\n",
    "    data['Minute'] = data['Dates'].dt.minute\n",
    "    data['Day_Num'] = [float(weekdays[w]) for w in data.DayOfWeek]\n",
    "    data['WeekOfYear'] = data['Dates'].dt.weekofyear\n",
    "    data['District_Num'] = [float(districts[t]) for t in data.PdDistrict]\n",
    "    data['HourZn'] = preprocessing.scale(list(map(getHourZn, data['Dates'].dt.hour)))\n",
    "    data['isWeekday'] = [float(weekdays2[w]) for w in data.DayOfWeek]\n",
    "    data['X'] = preprocessing.scale(list(map(lambda x: x+122.4194, data.X)))\n",
    "    data['Y'] = preprocessing.scale(list(map(lambda x: x-37.7749, data.Y)))\n",
    "    data['Address_Type'] = list(map(define_address, data.Address))\n",
    "#   data['HourZn'] = getHourZn(data['Dates'].dt.hour);\n",
    "    return data"
   ]
  },
  {
   "cell_type": "code",
   "execution_count": 30,
   "metadata": {},
   "outputs": [],
   "source": [
    "X_loc = ['X', 'Y', 'District_Num', 'Address_Type']\n",
    "X_time = ['Minute', 'Hour']\n",
    "X_date = ['Year','Month', 'Day', 'Day_Num', 'HourZn']\n",
    "X_all = X_loc + X_time + X_date\n",
    "\n",
    "train = feature_engineering(train)\n",
    "train['Category_Num'] = [float(categories[t]) for t in train.Category]\n",
    "\n",
    "X_train, X_test, y_train, y_test = train_test_split(train[X_all], train['Category_Num'], test_size = 0.2, random_state = 0)\n",
    "\n",
    "test = feature_engineering(test)"
   ]
  },
  {
   "cell_type": "markdown",
   "metadata": {},
   "source": [
    "랜섬 포레슈트\n",
    "점수가 0인 점을 고려해볼 때, 정밀도, 축구 경기, 그리고 F1을 살펴볼 것이다.\n",
    "\n",
    "네 가지 선택이 있습니다.\n",
    " micro : 전체 참의 양, 거짓의 음수와 거짓의 양(false positive)을 세어 전체적으로 측정지표를 계산한다.\n",
    " 매크로: 각 레이블에 대한 측정지표를 계산하고 가중치가 없는 평균을 구한다. 이것은 라벨 불균형을 고려하지 않는다.\n",
    " 가중 : 각 레이블에 대한 메트릭을 계산하고, 각 레이블에 대한 실제 인스턴스 수(각 레이블에 대한 실제 인스턴스 수)를 기준으로 가중치를 부여한 평균을 구하십시오. 이것은 라벨 불균형을 설명하기 위해 '매크로'를 바꾼다. 그것은 정밀도와 리콜 사이에 있지 않은 F 점수를 초래할 수 있다."
   ]
  },
  {
   "cell_type": "code",
   "execution_count": 31,
   "metadata": {},
   "outputs": [
    {
     "name": "stderr",
     "output_type": "stream",
     "text": [
      "C:\\ProgramData\\Anaconda3\\lib\\site-packages\\sklearn\\metrics\\classification.py:1137: UndefinedMetricWarning: Recall is ill-defined and being set to 0.0 in labels with no true samples.\n",
      "  'recall', 'true', average, warn_for)\n",
      "C:\\ProgramData\\Anaconda3\\lib\\site-packages\\sklearn\\metrics\\classification.py:1137: UndefinedMetricWarning: Recall is ill-defined and being set to 0.0 in labels with no true samples.\n",
      "  'recall', 'true', average, warn_for)\n",
      "C:\\ProgramData\\Anaconda3\\lib\\site-packages\\sklearn\\metrics\\classification.py:1137: UndefinedMetricWarning: F-score is ill-defined and being set to 0.0 in labels with no true samples.\n",
      "  'recall', 'true', average, warn_for)\n",
      "C:\\ProgramData\\Anaconda3\\lib\\site-packages\\sklearn\\metrics\\classification.py:1137: UndefinedMetricWarning: F-score is ill-defined and being set to 0.0 in labels with no true samples.\n",
      "  'recall', 'true', average, warn_for)\n"
     ]
    },
    {
     "data": {
      "text/plain": [
       "0.3698860791090158"
      ]
     },
     "execution_count": 31,
     "metadata": {},
     "output_type": "execute_result"
    }
   ],
   "source": [
    "#clf = RandomForestClassifier(max_features=\"log2\", max_depth=11, n_estimators=24,\n",
    "#                             min_samples_split=1000, oob_score=True).fit(X_train,y_train)\n",
    "#y = clf.predict(X_test)\n",
    "\n",
    "clf = RandomForestClassifier(max_features=\"log2\", max_depth=14, n_estimators=25,\n",
    "                             min_samples_split=300, oob_score=False).fit(X_train,y_train)\n",
    "y = clf.predict(X_test)\n",
    "\n",
    "\n",
    "recall_score(y,y_test, average='micro')\n",
    "# recall_score_micro : 0.29731792039177724\n",
    "recall_score(y,y_test, average='macro')\n",
    "# recall_score_macro : 0.09619918771835194\n",
    "recall_score(y,y_test, average='weighted')\n",
    "# recall_score_weighted : 0.29731792039177724\n",
    "\n",
    "precision_score(y,y_test, average='micro')\n",
    "# precision_score_micro : 0.29731792039177724\n",
    "precision_score(y,y_test, average='macro')\n",
    "# precision_score_macro : 0.07442702033391868\n",
    "precision_score(y,y_test, average='weighted')\n",
    "# precision_score_weighted : 0.567191672388691\n",
    "\n",
    "accuracy_score(y,y_test)\n",
    "# accuracy_score : 0.29731792039177724\n",
    "\n",
    "\n",
    "f1_score(y,y_test, average='micro')\n",
    "# F1_micro : 0.29731792039177724\n",
    "f1_score(y,y_test, average='macro')\n",
    "# F1_macro : 0.0683830234838435\n",
    "f1_score(y,y_test, average='weighted')\n",
    "# F1_weighted : 0.3704176711997292\n",
    "\n",
    "#clf = RandomForestClassifier(max_features=\"log2\", max_depth=14, n_estimators=25,\n",
    "#                             min_samples_split=300, oob_score=False).fit(train[X_all],train['Category_Num'])\n",
    "#y = clf.predict_proba(test[X_all])\n",
    "#submission = pd.DataFrame({cat_rev[p] : [y[i][p] for i in range(len(y))] for p in range(len(y[0]))})\n",
    "\n",
    "#submission['Id'] = [i for i in range(len(submission))]\n",
    "#submission.to_csv('result_RN.csv', index=False)\n",
    "# # "
   ]
  },
  {
   "cell_type": "code",
   "execution_count": 34,
   "metadata": {},
   "outputs": [
    {
     "name": "stderr",
     "output_type": "stream",
     "text": [
      "C:\\ProgramData\\Anaconda3\\lib\\site-packages\\sklearn\\metrics\\classification.py:1137: UndefinedMetricWarning: Recall is ill-defined and being set to 0.0 in labels with no true samples.\n",
      "  'recall', 'true', average, warn_for)\n",
      "C:\\ProgramData\\Anaconda3\\lib\\site-packages\\sklearn\\metrics\\classification.py:1137: UndefinedMetricWarning: Recall is ill-defined and being set to 0.0 in labels with no true samples.\n",
      "  'recall', 'true', average, warn_for)\n",
      "C:\\ProgramData\\Anaconda3\\lib\\site-packages\\sklearn\\metrics\\classification.py:1137: UndefinedMetricWarning: F-score is ill-defined and being set to 0.0 in labels with no true samples.\n",
      "  'recall', 'true', average, warn_for)\n",
      "C:\\ProgramData\\Anaconda3\\lib\\site-packages\\sklearn\\metrics\\classification.py:1137: UndefinedMetricWarning: F-score is ill-defined and being set to 0.0 in labels with no true samples.\n",
      "  'recall', 'true', average, warn_for)\n"
     ]
    },
    {
     "data": {
      "text/plain": [
       "0.22499597882768185"
      ]
     },
     "execution_count": 34,
     "metadata": {},
     "output_type": "execute_result"
    }
   ],
   "source": [
    "from sklearn.neighbors import KNeighborsClassifier\n",
    "knn = KNeighborsClassifier(n_neighbors=5)\n",
    "knn.fit(X_train, y_train)\n",
    "\n",
    "y = knn.predict(X_test)\n",
    "\n",
    "\n",
    "recall_score(y,y_test, average='micro')\n",
    "# recall_score_micro : 0.1996640282444052\n",
    "recall_score(y,y_test, average='macro')\n",
    "# recall_score_macro : 0.07300143475941939\n",
    "recall_score(y,y_test, average='weighted')\n",
    "# recall_score_weighted : 0.1996640282444052\n",
    "\n",
    "precision_score(y,y_test, average='micro')\n",
    "# precision_score_micro : 0.1996640282444052\n",
    "precision_score(y,y_test, average='macro')\n",
    "# precision_score_macro : 0.052448254827175196\n",
    "precision_score(y,y_test, average='weighted')\n",
    "# precision_score_weighted : 0.2742525234494359\n",
    "\n",
    "accuracy_score(y,y_test)\n",
    "# accuracy_score : 0.1996640282444052\n",
    "\n",
    "\n",
    "f1_score(y,y_test, average='micro')\n",
    "# F1_micro : 0.19966402824440524\n",
    "f1_score(y,y_test, average='macro')\n",
    "# F1_macro : 0.05236657213517695\n",
    "f1_score(y,y_test, average='weighted')\n",
    "# F1_weighted : 0.22499597882768185\n",
    "\n",
    "\n",
    "#y = knn.predict_proba(X_test)\n",
    "\n",
    "#submission = pd.DataFrame({cat_rev[p] : [y[i][p] for i in range(len(y))] for p in range(len(y[0]))})\n",
    "#submission['Id'] = [i for i in range(len(submission))]\n",
    "\n",
    "#submission.to_csv(\"submission_knn.csv\", index=False) "
   ]
  },
  {
   "cell_type": "code",
   "execution_count": 39,
   "metadata": {},
   "outputs": [
    {
     "name": "stderr",
     "output_type": "stream",
     "text": [
      "C:\\ProgramData\\Anaconda3\\lib\\site-packages\\sklearn\\metrics\\classification.py:1137: UndefinedMetricWarning: Recall is ill-defined and being set to 0.0 in labels with no true samples.\n",
      "  'recall', 'true', average, warn_for)\n",
      "C:\\ProgramData\\Anaconda3\\lib\\site-packages\\sklearn\\metrics\\classification.py:1137: UndefinedMetricWarning: Recall is ill-defined and being set to 0.0 in labels with no true samples.\n",
      "  'recall', 'true', average, warn_for)\n"
     ]
    },
    {
     "data": {
      "text/plain": [
       "0.21987358350891179"
      ]
     },
     "execution_count": 39,
     "metadata": {},
     "output_type": "execute_result"
    }
   ],
   "source": [
    "from sklearn.linear_model import LogisticRegression\n",
    "lgr = LogisticRegression()\n",
    "lgr.fit(X_train,y_train)\n",
    "y = lgr.predict(X_test)\n",
    "\n",
    "\n",
    "recall_score(y,y_test, average='micro')\n",
    "recall_score(y,y_test, average='macro')\n",
    "recall_score(y,y_test, average='weighted')\n",
    "\n",
    "precision_score(y,y_test, average='micro')\n",
    "precision_score(y,y_test, average='macro')\n",
    "precision_score(y,y_test, average='weighted')\n",
    "\n",
    "accuracy_score(y,y_test)\n"
   ]
  },
  {
   "cell_type": "code",
   "execution_count": 40,
   "metadata": {},
   "outputs": [
    {
     "name": "stderr",
     "output_type": "stream",
     "text": [
      "C:\\ProgramData\\Anaconda3\\lib\\site-packages\\sklearn\\metrics\\classification.py:1137: UndefinedMetricWarning: F-score is ill-defined and being set to 0.0 in labels with no true samples.\n",
      "  'recall', 'true', average, warn_for)\n",
      "C:\\ProgramData\\Anaconda3\\lib\\site-packages\\sklearn\\metrics\\classification.py:1137: UndefinedMetricWarning: F-score is ill-defined and being set to 0.0 in labels with no true samples.\n",
      "  'recall', 'true', average, warn_for)\n"
     ]
    },
    {
     "data": {
      "text/plain": [
       "0.3165873207052942"
      ]
     },
     "execution_count": 40,
     "metadata": {},
     "output_type": "execute_result"
    }
   ],
   "source": [
    "\n",
    "f1_score(y,y_test, average='micro')\n",
    "# F1_micro : 0.21990775012812483\n",
    "f1_score(y,y_test, average='macro')\n",
    "# F1_macro : 0.0207335350195717\n",
    "f1_score(y,y_test, average='weighted')\n",
    "# F1_weighted : 0.3166197259646911"
   ]
  },
  {
   "cell_type": "code",
   "execution_count": 41,
   "metadata": {},
   "outputs": [],
   "source": [
    "#seed = 37\n",
    "\n",
    "#model = xgb.XGBClassifier(objective='multi:softprob',\n",
    "#                          n_estimators=45,\n",
    "#                          learning_rate=1.0,\n",
    "#                          max_depth=1,\n",
    "#                          max_delta_step=1,\n",
    "#                          nthread=-1,\n",
    "#                          seed=seed)\n",
    "#model.fit(X_train, y_train)\n",
    "#predictions = model.predict_proba(X_test)\n",
    "\n",
    "\n",
    "#y = model.predict_proba(test[X_all])\n",
    "\n",
    "#submission = pd.DataFrame({cat_rev[p] : [y[i][p] for i in range(len(y))] for p in range(len(y[0]))})\n",
    "#submission['Id'] = [i for i in range(len(submission))]\n",
    "#submission.to_csv('result_logistic.csv', index=False)"
   ]
  },
  {
   "cell_type": "code",
   "execution_count": null,
   "metadata": {},
   "outputs": [],
   "source": []
  },
  {
   "cell_type": "code",
   "execution_count": null,
   "metadata": {},
   "outputs": [],
   "source": []
  }
 ],
 "metadata": {
  "kernelspec": {
   "display_name": "Python 3",
   "language": "python",
   "name": "python3"
  },
  "language_info": {
   "codemirror_mode": {
    "name": "ipython",
    "version": 3
   },
   "file_extension": ".py",
   "mimetype": "text/x-python",
   "name": "python",
   "nbconvert_exporter": "python",
   "pygments_lexer": "ipython3",
   "version": "3.6.5"
  }
 },
 "nbformat": 4,
 "nbformat_minor": 2
}
